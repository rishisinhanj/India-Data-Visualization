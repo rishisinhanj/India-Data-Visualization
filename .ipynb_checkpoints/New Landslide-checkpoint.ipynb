{
 "cells": [
  {
   "cell_type": "code",
   "execution_count": null,
   "id": "vocal-output",
   "metadata": {},
   "outputs": [],
   "source": [
    "import numpy as np\n",
    "import matplotlib.pyplot as plt\n",
    "import pandas as pd"
   ]
  },
  {
   "cell_type": "code",
   "execution_count": null,
   "id": "induced-cooperation",
   "metadata": {},
   "outputs": [],
   "source": [
    "df = pd.read_csv('globallandslides.csv')\n",
    "df_copy = pd.read_csv('globallandslides.csv')"
   ]
  },
  {
   "cell_type": "code",
   "execution_count": null,
   "id": "raising-candidate",
   "metadata": {},
   "outputs": [],
   "source": [
    "pd.set_option('display.max_columns', None)"
   ]
  },
  {
   "cell_type": "code",
   "execution_count": null,
   "id": "middle-acquisition",
   "metadata": {},
   "outputs": [],
   "source": [
    "df.head()"
   ]
  },
  {
   "cell_type": "code",
   "execution_count": null,
   "id": "chicken-litigation",
   "metadata": {},
   "outputs": [],
   "source": [
    "df = df[df.country_name==\"India\"]"
   ]
  },
  {
   "cell_type": "code",
   "execution_count": null,
   "id": "seven-saturday",
   "metadata": {},
   "outputs": [],
   "source": [
    "df.head()"
   ]
  },
  {
   "cell_type": "code",
   "execution_count": null,
   "id": "fatty-member",
   "metadata": {},
   "outputs": [],
   "source": [
    "df[\"Year\"] = pd.to_datetime(df[\"event_date\"]).dt.year"
   ]
  },
  {
   "cell_type": "code",
   "execution_count": null,
   "id": "micro-czech",
   "metadata": {},
   "outputs": [],
   "source": [
    "df = df[df.landslide_category==\"landslide\"]"
   ]
  },
  {
   "cell_type": "markdown",
   "id": "aggregate-israel",
   "metadata": {},
   "source": [
    "## A map of only landslides that have happened within India"
   ]
  },
  {
   "cell_type": "code",
   "execution_count": null,
   "id": "packed-magic",
   "metadata": {},
   "outputs": [],
   "source": [
    "import pandas as pd\n",
    "import seaborn as sns\n",
    "import geopandas as gpd\n",
    "import matplotlib.pyplot as plt\n",
    "from shapely.geometry import Point\n",
    "\n",
    "sns.set_style('whitegrid')"
   ]
  },
  {
   "cell_type": "code",
   "execution_count": null,
   "id": "increasing-doctor",
   "metadata": {},
   "outputs": [],
   "source": [
    "ls_df = df\n",
    "ls_df = ls_df.dropna(axis=0, subset=['admin_division_name'])"
   ]
  },
  {
   "cell_type": "code",
   "execution_count": null,
   "id": "important-giant",
   "metadata": {},
   "outputs": [],
   "source": [
    "ls_df[\"admin_division_name\"].replace(\"Nāgāland\", \"Nagaland\",inplace = True)\n",
    "ls_df[\"admin_division_name\"].replace(\"Meghālaya\", \"Meghalaya\",inplace = True)\n",
    "ls_df[\"admin_division_name\"].replace(\"Tamil Nādu\", \"Tamil Nadu\",inplace = True)\n",
    "ls_df[\"admin_division_name\"].replace(\"Karnātaka\", \"Karnataka\",inplace = True)\n",
    "ls_df[\"admin_division_name\"].replace(\"Gujarāt\", \"Gujarat\",inplace = True)\n",
    "ls_df[\"admin_division_name\"].replace(\"Arunāchal Pradesh\", \"Arunachal Pradesh\",inplace = True)\n"
   ]
  },
  {
   "cell_type": "code",
   "execution_count": null,
   "id": "acting-bundle",
   "metadata": {},
   "outputs": [],
   "source": [
    "state_df = ls_df[\"admin_division_name\"].value_counts()\n",
    "state_df = state_df.to_frame()\n",
    "state_df.reset_index(level=0, inplace=True)\n",
    "state_df.columns = ['State', 'Count']"
   ]
  },
  {
   "cell_type": "code",
   "execution_count": null,
   "id": "starting-algebra",
   "metadata": {},
   "outputs": [],
   "source": [
    "state_df"
   ]
  },
  {
   "cell_type": "code",
   "execution_count": null,
   "id": "composed-peter",
   "metadata": {},
   "outputs": [],
   "source": [
    "state_df.at[15,\"Count\"] = 69\n",
    "state_df.drop(7)"
   ]
  },
  {
   "cell_type": "code",
   "execution_count": null,
   "id": "italian-paste",
   "metadata": {},
   "outputs": [],
   "source": [
    "fp = r'Maps_with_python\\india-polygon.shp'\n",
    "map_df = gpd.read_file(fp)\n",
    "map_df_copy = gpd.read_file(fp)\n",
    "map_df.head()"
   ]
  },
  {
   "cell_type": "code",
   "execution_count": null,
   "id": "nutritional-disposal",
   "metadata": {},
   "outputs": [],
   "source": [
    "state_df.at[0,\"State\"] = \"Jammu and Kashmir\"\n",
    "state_df.at[20,\"State\"] = \"Delhi\""
   ]
  },
  {
   "cell_type": "code",
   "execution_count": null,
   "id": "national-activity",
   "metadata": {},
   "outputs": [],
   "source": [
    "#Merging the data\n",
    "merged = map_df.set_index('st_nm').join(state_df.set_index('State'))\n",
    "merged['Count'] = merged['Count'].replace(np.nan, 0)\n",
    "merged.head()"
   ]
  },
  {
   "cell_type": "code",
   "execution_count": null,
   "id": "informal-compiler",
   "metadata": {},
   "outputs": [],
   "source": [
    "#create figure and axes for Matplotlib and set the title\n",
    "fig, ax = plt.subplots(1, figsize=(10, 10))\n",
    "ax.axis('off')\n",
    "ax.set_title('Landslides', fontdict={'fontsize': '25', 'fontweight' : '10'})\n",
    "\n",
    "# plot the figure\n",
    "merged.plot(column='Count',cmap='YlOrRd', linewidth=0.8, ax=ax, edgecolor='0', legend=True,markersize=[39.739192, -104.990337])"
   ]
  },
  {
   "cell_type": "code",
   "execution_count": null,
   "id": "permanent-meter",
   "metadata": {},
   "outputs": [],
   "source": [
    "assam_df = df[df['admin_division_name'] == \"Assam\"]\n",
    "assam_df.head()"
   ]
  },
  {
   "cell_type": "code",
   "execution_count": null,
   "id": "quarterly-contribution",
   "metadata": {},
   "outputs": [],
   "source": [
    "lat = assam_df['latitude'].tolist()\n",
    "long = assam_df['longitude'].tolist()"
   ]
  },
  {
   "cell_type": "code",
   "execution_count": null,
   "id": "liked-vinyl",
   "metadata": {},
   "outputs": [],
   "source": [
    "map_df = map_df[map_df.st_nm == \"Assam\"]"
   ]
  },
  {
   "cell_type": "code",
   "execution_count": null,
   "id": "boolean-interim",
   "metadata": {
    "scrolled": true
   },
   "outputs": [],
   "source": [
    "geometry = [Point(xy) for xy in zip(long,lat)]\n",
    "fig,ax = plt.subplots(figsize = (15,15))\n",
    "map_df.plot(ax = ax)\n",
    "geo_df = gpd.GeoDataFrame(geometry = geometry)\n",
    "print(geo_df)\n",
    "g = geo_df.plot(ax = ax, markersize = 50, color = 'red',marker = '*',label = 'Assam')\n",
    "plt.show()"
   ]
  },
  {
   "cell_type": "code",
   "execution_count": null,
   "id": "knowing-workstation",
   "metadata": {},
   "outputs": [],
   "source": [
    "fp = r'Assam_Map_Data\\assam_administrative.shp'\n",
    "xyz = gpd.read_file(fp)\n",
    "xyz.head()\n",
    "\n",
    "# fp = r'Assam_Map_Data\\District\\assam_location.dbf'\n",
    "# dis_df = gpd.read_file(fp)\n",
    "# dis_df.head()\n",
    "# xyz_copy = gpd.read_file(fp)"
   ]
  },
  {
   "cell_type": "code",
   "execution_count": null,
   "id": "steady-officer",
   "metadata": {},
   "outputs": [],
   "source": [
    "dis_df = pd.read_csv('District Points.csv')"
   ]
  },
  {
   "cell_type": "code",
   "execution_count": null,
   "id": "wrong-creator",
   "metadata": {},
   "outputs": [],
   "source": [
    "dis_df = dis_df[dis_df.state_code == \"ASSAM\"]\n",
    "dis_df"
   ]
  },
  {
   "cell_type": "code",
   "execution_count": 109,
   "id": "negative-sheet",
   "metadata": {},
   "outputs": [
    {
     "data": {
      "text/html": [
       "<div>\n",
       "<style scoped>\n",
       "    .dataframe tbody tr th:only-of-type {\n",
       "        vertical-align: middle;\n",
       "    }\n",
       "\n",
       "    .dataframe tbody tr th {\n",
       "        vertical-align: top;\n",
       "    }\n",
       "\n",
       "    .dataframe thead th {\n",
       "        text-align: right;\n",
       "    }\n",
       "</style>\n",
       "<table border=\"1\" class=\"dataframe\">\n",
       "  <thead>\n",
       "    <tr style=\"text-align: right;\">\n",
       "      <th></th>\n",
       "      <th>ADMIN_LEVE</th>\n",
       "      <th>geometry</th>\n",
       "      <th>parameter</th>\n",
       "      <th>state_code</th>\n",
       "      <th>Lat</th>\n",
       "      <th>Lon</th>\n",
       "    </tr>\n",
       "  </thead>\n",
       "  <tbody>\n",
       "    <tr>\n",
       "      <th>Cachar</th>\n",
       "      <td>5</td>\n",
       "      <td>LINESTRING (93.25298 24.97509, 93.26324 24.966...</td>\n",
       "      <td>30.0</td>\n",
       "      <td>ASSAM</td>\n",
       "      <td>24.820025</td>\n",
       "      <td>92.795038</td>\n",
       "    </tr>\n",
       "    <tr>\n",
       "      <th>Dhemaji</th>\n",
       "      <td>5</td>\n",
       "      <td>LINESTRING (95.27734 27.68539, 95.26752 27.667...</td>\n",
       "      <td>45.0</td>\n",
       "      <td>ASSAM</td>\n",
       "      <td>27.484400</td>\n",
       "      <td>94.594933</td>\n",
       "    </tr>\n",
       "    <tr>\n",
       "      <th>Dibrugarh</th>\n",
       "      <td>5</td>\n",
       "      <td>LINESTRING (95.20330 27.66398, 95.22604 27.655...</td>\n",
       "      <td>81.0</td>\n",
       "      <td>ASSAM</td>\n",
       "      <td>27.480193</td>\n",
       "      <td>94.912419</td>\n",
       "    </tr>\n",
       "    <tr>\n",
       "      <th>Goalpara</th>\n",
       "      <td>5</td>\n",
       "      <td>LINESTRING (90.80349 26.12357, 90.82177 26.117...</td>\n",
       "      <td>10.0</td>\n",
       "      <td>ASSAM</td>\n",
       "      <td>26.176465</td>\n",
       "      <td>90.631164</td>\n",
       "    </tr>\n",
       "    <tr>\n",
       "      <th>Golaghat</th>\n",
       "      <td>5</td>\n",
       "      <td>LINESTRING (94.16775 26.35327, 94.17979 26.354...</td>\n",
       "      <td>9.0</td>\n",
       "      <td>ASSAM</td>\n",
       "      <td>26.509522</td>\n",
       "      <td>93.974001</td>\n",
       "    </tr>\n",
       "  </tbody>\n",
       "</table>\n",
       "</div>"
      ],
      "text/plain": [
       "          ADMIN_LEVE                                           geometry  \\\n",
       "Cachar             5  LINESTRING (93.25298 24.97509, 93.26324 24.966...   \n",
       "Dhemaji            5  LINESTRING (95.27734 27.68539, 95.26752 27.667...   \n",
       "Dibrugarh          5  LINESTRING (95.20330 27.66398, 95.22604 27.655...   \n",
       "Goalpara           5  LINESTRING (90.80349 26.12357, 90.82177 26.117...   \n",
       "Golaghat           5  LINESTRING (94.16775 26.35327, 94.17979 26.354...   \n",
       "\n",
       "           parameter state_code        Lat        Lon  \n",
       "Cachar          30.0      ASSAM  24.820025  92.795038  \n",
       "Dhemaji         45.0      ASSAM  27.484400  94.594933  \n",
       "Dibrugarh       81.0      ASSAM  27.480193  94.912419  \n",
       "Goalpara        10.0      ASSAM  26.176465  90.631164  \n",
       "Golaghat         9.0      ASSAM  26.509522  93.974001  "
      ]
     },
     "execution_count": 109,
     "metadata": {},
     "output_type": "execute_result"
    }
   ],
   "source": [
    "merged_dis = xyz.set_index('NAME').join(dis_df.set_index('district_code'))\n",
    "merged_dis.head()\n",
    "merged_dis = merged_dis[merged_dis.Lat.notna()]\n",
    "merged_dis.head()\n"
   ]
  },
  {
   "cell_type": "code",
   "execution_count": 110,
   "id": "moved-butler",
   "metadata": {},
   "outputs": [],
   "source": [
    "merged_dis.reset_index(level=0, inplace=True)\n"
   ]
  },
  {
   "cell_type": "raw",
   "id": "approximate-kruger",
   "metadata": {},
   "source": []
  },
  {
   "cell_type": "code",
   "execution_count": 108,
   "id": "global-vermont",
   "metadata": {},
   "outputs": [
    {
     "ename": "ValueError",
     "evalue": "Length mismatch: Expected axis has 8 elements, new values have 7 elements",
     "output_type": "error",
     "traceback": [
      "\u001b[1;31m---------------------------------------------------------------------------\u001b[0m",
      "\u001b[1;31mValueError\u001b[0m                                Traceback (most recent call last)",
      "\u001b[1;32m<ipython-input-108-9b0d1f04614a>\u001b[0m in \u001b[0;36m<module>\u001b[1;34m\u001b[0m\n\u001b[1;32m----> 1\u001b[1;33m \u001b[0mmerged_dis\u001b[0m\u001b[1;33m.\u001b[0m\u001b[0mcolumns\u001b[0m \u001b[1;33m=\u001b[0m \u001b[1;33m[\u001b[0m\u001b[1;34m'Level'\u001b[0m\u001b[1;33m,\u001b[0m \u001b[1;34m'District'\u001b[0m\u001b[1;33m,\u001b[0m\u001b[1;34m'geometry'\u001b[0m\u001b[1;33m,\u001b[0m\u001b[1;34m'parameter'\u001b[0m\u001b[1;33m,\u001b[0m \u001b[1;34m'state_code'\u001b[0m\u001b[1;33m,\u001b[0m \u001b[1;34m'Lat'\u001b[0m\u001b[1;33m,\u001b[0m \u001b[1;34m'Lon'\u001b[0m\u001b[1;33m]\u001b[0m\u001b[1;33m\u001b[0m\u001b[1;33m\u001b[0m\u001b[0m\n\u001b[0m",
      "\u001b[1;32m~\\anaconda3\\envs\\landslide\\lib\\site-packages\\geopandas\\geodataframe.py\u001b[0m in \u001b[0;36m__setattr__\u001b[1;34m(self, attr, val)\u001b[0m\n\u001b[0;32m    180\u001b[0m             \u001b[0mobject\u001b[0m\u001b[1;33m.\u001b[0m\u001b[0m__setattr__\u001b[0m\u001b[1;33m(\u001b[0m\u001b[0mself\u001b[0m\u001b[1;33m,\u001b[0m \u001b[0mattr\u001b[0m\u001b[1;33m,\u001b[0m \u001b[0mval\u001b[0m\u001b[1;33m)\u001b[0m\u001b[1;33m\u001b[0m\u001b[1;33m\u001b[0m\u001b[0m\n\u001b[0;32m    181\u001b[0m         \u001b[1;32melse\u001b[0m\u001b[1;33m:\u001b[0m\u001b[1;33m\u001b[0m\u001b[1;33m\u001b[0m\u001b[0m\n\u001b[1;32m--> 182\u001b[1;33m             \u001b[0msuper\u001b[0m\u001b[1;33m(\u001b[0m\u001b[0mGeoDataFrame\u001b[0m\u001b[1;33m,\u001b[0m \u001b[0mself\u001b[0m\u001b[1;33m)\u001b[0m\u001b[1;33m.\u001b[0m\u001b[0m__setattr__\u001b[0m\u001b[1;33m(\u001b[0m\u001b[0mattr\u001b[0m\u001b[1;33m,\u001b[0m \u001b[0mval\u001b[0m\u001b[1;33m)\u001b[0m\u001b[1;33m\u001b[0m\u001b[1;33m\u001b[0m\u001b[0m\n\u001b[0m\u001b[0;32m    183\u001b[0m \u001b[1;33m\u001b[0m\u001b[0m\n\u001b[0;32m    184\u001b[0m     \u001b[1;32mdef\u001b[0m \u001b[0m_get_geometry\u001b[0m\u001b[1;33m(\u001b[0m\u001b[0mself\u001b[0m\u001b[1;33m)\u001b[0m\u001b[1;33m:\u001b[0m\u001b[1;33m\u001b[0m\u001b[1;33m\u001b[0m\u001b[0m\n",
      "\u001b[1;32m~\\anaconda3\\envs\\landslide\\lib\\site-packages\\pandas\\core\\generic.py\u001b[0m in \u001b[0;36m__setattr__\u001b[1;34m(self, name, value)\u001b[0m\n\u001b[0;32m   5152\u001b[0m         \u001b[1;32mtry\u001b[0m\u001b[1;33m:\u001b[0m\u001b[1;33m\u001b[0m\u001b[1;33m\u001b[0m\u001b[0m\n\u001b[0;32m   5153\u001b[0m             \u001b[0mobject\u001b[0m\u001b[1;33m.\u001b[0m\u001b[0m__getattribute__\u001b[0m\u001b[1;33m(\u001b[0m\u001b[0mself\u001b[0m\u001b[1;33m,\u001b[0m \u001b[0mname\u001b[0m\u001b[1;33m)\u001b[0m\u001b[1;33m\u001b[0m\u001b[1;33m\u001b[0m\u001b[0m\n\u001b[1;32m-> 5154\u001b[1;33m             \u001b[1;32mreturn\u001b[0m \u001b[0mobject\u001b[0m\u001b[1;33m.\u001b[0m\u001b[0m__setattr__\u001b[0m\u001b[1;33m(\u001b[0m\u001b[0mself\u001b[0m\u001b[1;33m,\u001b[0m \u001b[0mname\u001b[0m\u001b[1;33m,\u001b[0m \u001b[0mvalue\u001b[0m\u001b[1;33m)\u001b[0m\u001b[1;33m\u001b[0m\u001b[1;33m\u001b[0m\u001b[0m\n\u001b[0m\u001b[0;32m   5155\u001b[0m         \u001b[1;32mexcept\u001b[0m \u001b[0mAttributeError\u001b[0m\u001b[1;33m:\u001b[0m\u001b[1;33m\u001b[0m\u001b[1;33m\u001b[0m\u001b[0m\n\u001b[0;32m   5156\u001b[0m             \u001b[1;32mpass\u001b[0m\u001b[1;33m\u001b[0m\u001b[1;33m\u001b[0m\u001b[0m\n",
      "\u001b[1;32mpandas\\_libs\\properties.pyx\u001b[0m in \u001b[0;36mpandas._libs.properties.AxisProperty.__set__\u001b[1;34m()\u001b[0m\n",
      "\u001b[1;32m~\\anaconda3\\envs\\landslide\\lib\\site-packages\\pandas\\core\\generic.py\u001b[0m in \u001b[0;36m_set_axis\u001b[1;34m(self, axis, labels)\u001b[0m\n\u001b[0;32m    562\u001b[0m     \u001b[1;32mdef\u001b[0m \u001b[0m_set_axis\u001b[0m\u001b[1;33m(\u001b[0m\u001b[0mself\u001b[0m\u001b[1;33m,\u001b[0m \u001b[0maxis\u001b[0m\u001b[1;33m:\u001b[0m \u001b[0mint\u001b[0m\u001b[1;33m,\u001b[0m \u001b[0mlabels\u001b[0m\u001b[1;33m:\u001b[0m \u001b[0mIndex\u001b[0m\u001b[1;33m)\u001b[0m \u001b[1;33m->\u001b[0m \u001b[1;32mNone\u001b[0m\u001b[1;33m:\u001b[0m\u001b[1;33m\u001b[0m\u001b[1;33m\u001b[0m\u001b[0m\n\u001b[0;32m    563\u001b[0m         \u001b[0mlabels\u001b[0m \u001b[1;33m=\u001b[0m \u001b[0mensure_index\u001b[0m\u001b[1;33m(\u001b[0m\u001b[0mlabels\u001b[0m\u001b[1;33m)\u001b[0m\u001b[1;33m\u001b[0m\u001b[1;33m\u001b[0m\u001b[0m\n\u001b[1;32m--> 564\u001b[1;33m         \u001b[0mself\u001b[0m\u001b[1;33m.\u001b[0m\u001b[0m_mgr\u001b[0m\u001b[1;33m.\u001b[0m\u001b[0mset_axis\u001b[0m\u001b[1;33m(\u001b[0m\u001b[0maxis\u001b[0m\u001b[1;33m,\u001b[0m \u001b[0mlabels\u001b[0m\u001b[1;33m)\u001b[0m\u001b[1;33m\u001b[0m\u001b[1;33m\u001b[0m\u001b[0m\n\u001b[0m\u001b[0;32m    565\u001b[0m         \u001b[0mself\u001b[0m\u001b[1;33m.\u001b[0m\u001b[0m_clear_item_cache\u001b[0m\u001b[1;33m(\u001b[0m\u001b[1;33m)\u001b[0m\u001b[1;33m\u001b[0m\u001b[1;33m\u001b[0m\u001b[0m\n\u001b[0;32m    566\u001b[0m \u001b[1;33m\u001b[0m\u001b[0m\n",
      "\u001b[1;32m~\\anaconda3\\envs\\landslide\\lib\\site-packages\\pandas\\core\\internals\\managers.py\u001b[0m in \u001b[0;36mset_axis\u001b[1;34m(self, axis, new_labels)\u001b[0m\n\u001b[0;32m    225\u001b[0m         \u001b[1;32mif\u001b[0m \u001b[0mnew_len\u001b[0m \u001b[1;33m!=\u001b[0m \u001b[0mold_len\u001b[0m\u001b[1;33m:\u001b[0m\u001b[1;33m\u001b[0m\u001b[1;33m\u001b[0m\u001b[0m\n\u001b[0;32m    226\u001b[0m             raise ValueError(\n\u001b[1;32m--> 227\u001b[1;33m                 \u001b[1;34mf\"Length mismatch: Expected axis has {old_len} elements, new \"\u001b[0m\u001b[1;33m\u001b[0m\u001b[1;33m\u001b[0m\u001b[0m\n\u001b[0m\u001b[0;32m    228\u001b[0m                 \u001b[1;34mf\"values have {new_len} elements\"\u001b[0m\u001b[1;33m\u001b[0m\u001b[1;33m\u001b[0m\u001b[0m\n\u001b[0;32m    229\u001b[0m             )\n",
      "\u001b[1;31mValueError\u001b[0m: Length mismatch: Expected axis has 8 elements, new values have 7 elements"
     ]
    }
   ],
   "source": [
    "merged_dis.columns = ['Level', 'District','geometry','parameter', 'state_code', 'Lat', 'Lon']"
   ]
  },
  {
   "cell_type": "code",
   "execution_count": 105,
   "id": "different-seller",
   "metadata": {},
   "outputs": [
    {
     "data": {
      "text/plain": [
       "0"
      ]
     },
     "execution_count": 105,
     "metadata": {},
     "output_type": "execute_result"
    }
   ],
   "source": [
    "merged_dis.index[0]"
   ]
  },
  {
   "cell_type": "code",
   "execution_count": null,
   "id": "sophisticated-federation",
   "metadata": {},
   "outputs": [],
   "source": [
    "geometry = [Point(xy) for xy in zip(long,lat)]\n",
    "fig,ax = plt.subplots(figsize = (15,15))\n",
    "xyz.plot(ax = ax)\n",
    "geo_df = gpd.GeoDataFrame(geometry = geometry)\n",
    "print(geo_df)\n",
    "g = geo_df.plot(ax = ax, markersize = 50, color = 'red',marker = '*',label = 'Assam')\n",
    "\n",
    "for i in range(len(merged_dis)):\n",
    "    plt.text(merged_dis.Lon[i],merged_dis.Lat[i],\"{}\".format(merged_dis.index[i]),size=10)\n",
    "    \n",
    "plt.show()"
   ]
  },
  {
   "cell_type": "code",
   "execution_count": null,
   "id": "beautiful-model",
   "metadata": {},
   "outputs": [],
   "source": []
  },
  {
   "cell_type": "code",
   "execution_count": null,
   "id": "sunrise-organization",
   "metadata": {},
   "outputs": [],
   "source": []
  },
  {
   "cell_type": "code",
   "execution_count": null,
   "id": "digital-imagination",
   "metadata": {},
   "outputs": [],
   "source": []
  },
  {
   "cell_type": "code",
   "execution_count": null,
   "id": "divided-purpose",
   "metadata": {},
   "outputs": [],
   "source": []
  },
  {
   "cell_type": "code",
   "execution_count": null,
   "id": "heavy-award",
   "metadata": {},
   "outputs": [],
   "source": []
  },
  {
   "cell_type": "code",
   "execution_count": null,
   "id": "vocal-traveler",
   "metadata": {},
   "outputs": [],
   "source": []
  },
  {
   "cell_type": "code",
   "execution_count": null,
   "id": "beginning-insider",
   "metadata": {},
   "outputs": [],
   "source": []
  },
  {
   "cell_type": "code",
   "execution_count": null,
   "id": "historical-batch",
   "metadata": {},
   "outputs": [],
   "source": []
  },
  {
   "cell_type": "code",
   "execution_count": null,
   "id": "arranged-album",
   "metadata": {},
   "outputs": [],
   "source": []
  },
  {
   "cell_type": "markdown",
   "id": "voluntary-african",
   "metadata": {},
   "source": [
    "## A plot showing the total number of landslides that have happened in India every year"
   ]
  },
  {
   "cell_type": "code",
   "execution_count": null,
   "id": "novel-subscription",
   "metadata": {},
   "outputs": [],
   "source": [
    "y_values = df.groupby(['Year']).country_name.count().values"
   ]
  },
  {
   "cell_type": "code",
   "execution_count": null,
   "id": "australian-nashville",
   "metadata": {},
   "outputs": [],
   "source": [
    "y_values.tolist()"
   ]
  },
  {
   "cell_type": "code",
   "execution_count": null,
   "id": "skilled-calvin",
   "metadata": {},
   "outputs": [],
   "source": [
    "x_values = df.groupby(['Year']).country_name.count().index.values"
   ]
  },
  {
   "cell_type": "code",
   "execution_count": null,
   "id": "working-electron",
   "metadata": {},
   "outputs": [],
   "source": [
    "x_values.tolist()"
   ]
  },
  {
   "cell_type": "code",
   "execution_count": null,
   "id": "returning-advance",
   "metadata": {},
   "outputs": [],
   "source": [
    "plt.bar(x_values,y_values, color = \"green\")\n",
    "plt.xlabel(\"year\")\n",
    "plt.ylabel(\"No of landslide\")\n",
    "plt.title(\"No of lanslides in India Year-wise\")\n",
    "plt.show()"
   ]
  },
  {
   "cell_type": "code",
   "execution_count": null,
   "id": "incorporated-documentation",
   "metadata": {},
   "outputs": [],
   "source": []
  }
 ],
 "metadata": {
  "kernelspec": {
   "display_name": "Python 3",
   "language": "python",
   "name": "python3"
  },
  "language_info": {
   "codemirror_mode": {
    "name": "ipython",
    "version": 3
   },
   "file_extension": ".py",
   "mimetype": "text/x-python",
   "name": "python",
   "nbconvert_exporter": "python",
   "pygments_lexer": "ipython3",
   "version": "3.6.13"
  }
 },
 "nbformat": 4,
 "nbformat_minor": 5
}
