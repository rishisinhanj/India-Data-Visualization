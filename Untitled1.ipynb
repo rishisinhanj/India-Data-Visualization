{
 "cells": [
  {
   "cell_type": "code",
   "execution_count": 1,
   "id": "russian-democracy",
   "metadata": {},
   "outputs": [],
   "source": [
    "import pandas as pd\n",
    "import seaborn as sns\n",
    "import geopandas as gpd\n",
    "import matplotlib.pyplot as plt\n",
    "from shapely.geometry import Point\n",
    "import numpy as np\n",
    "import matplotlib.pyplot as plt\n",
    "import pandas as pd\n",
    "\n",
    "sns.set_style('whitegrid')"
   ]
  },
  {
   "cell_type": "code",
   "execution_count": 6,
   "id": "russian-bracelet",
   "metadata": {},
   "outputs": [
    {
     "data": {
      "text/html": [
       "<div>\n",
       "<style scoped>\n",
       "    .dataframe tbody tr th:only-of-type {\n",
       "        vertical-align: middle;\n",
       "    }\n",
       "\n",
       "    .dataframe tbody tr th {\n",
       "        vertical-align: top;\n",
       "    }\n",
       "\n",
       "    .dataframe thead th {\n",
       "        text-align: right;\n",
       "    }\n",
       "</style>\n",
       "<table border=\"1\" class=\"dataframe\">\n",
       "  <thead>\n",
       "    <tr style=\"text-align: right;\">\n",
       "      <th></th>\n",
       "      <th>ST_NM</th>\n",
       "      <th>geometry</th>\n",
       "    </tr>\n",
       "  </thead>\n",
       "  <tbody>\n",
       "    <tr>\n",
       "      <th>0</th>\n",
       "      <td>Arunachal Pradesh</td>\n",
       "      <td>POLYGON ((96.08866 29.45997, 96.09428 29.45477...</td>\n",
       "    </tr>\n",
       "    <tr>\n",
       "      <th>1</th>\n",
       "      <td>Assam</td>\n",
       "      <td>POLYGON ((95.97166 27.96254, 95.97174 27.96227...</td>\n",
       "    </tr>\n",
       "    <tr>\n",
       "      <th>2</th>\n",
       "      <td>Chandigarh</td>\n",
       "      <td>POLYGON ((76.77175 30.79498, 76.77231 30.79420...</td>\n",
       "    </tr>\n",
       "    <tr>\n",
       "      <th>3</th>\n",
       "      <td>Karnataka</td>\n",
       "      <td>POLYGON ((77.32647 18.45884, 77.32648 18.45803...</td>\n",
       "    </tr>\n",
       "    <tr>\n",
       "      <th>4</th>\n",
       "      <td>Manipur</td>\n",
       "      <td>POLYGON ((94.57315 25.69156, 94.57522 25.69094...</td>\n",
       "    </tr>\n",
       "  </tbody>\n",
       "</table>\n",
       "</div>"
      ],
      "text/plain": [
       "               ST_NM                                           geometry\n",
       "0  Arunachal Pradesh  POLYGON ((96.08866 29.45997, 96.09428 29.45477...\n",
       "1              Assam  POLYGON ((95.97166 27.96254, 95.97174 27.96227...\n",
       "2         Chandigarh  POLYGON ((76.77175 30.79498, 76.77231 30.79420...\n",
       "3          Karnataka  POLYGON ((77.32647 18.45884, 77.32648 18.45803...\n",
       "4            Manipur  POLYGON ((94.57315 25.69156, 94.57522 25.69094..."
      ]
     },
     "execution_count": 6,
     "metadata": {},
     "output_type": "execute_result"
    }
   ],
   "source": [
    "fp = r'States\\Admin2.shp'\n",
    "map_df = gpd.read_file(fp)\n",
    "map_df_copy = gpd.read_file(fp)\n",
    "map_df.head()"
   ]
  },
  {
   "cell_type": "code",
   "execution_count": 7,
   "id": "informed-barrel",
   "metadata": {},
   "outputs": [],
   "source": [
    "map_df = map_df[map_df.ST_NM == \"Assam\"]"
   ]
  },
  {
   "cell_type": "code",
   "execution_count": 8,
   "id": "stainless-threat",
   "metadata": {},
   "outputs": [
    {
     "data": {
      "text/plain": [
       "<matplotlib.axes._subplots.AxesSubplot at 0x1cb30b6cdd8>"
      ]
     },
     "execution_count": 8,
     "metadata": {},
     "output_type": "execute_result"
    },
    {
     "data": {
      "image/png": "[encoded data removed]",
      "text/plain": [
       "<Figure size 432x288 with 1 Axes>"
      ]
     },
     "metadata": {},
     "output_type": "display_data"
    }
   ],
   "source": [
    "map_df.plot()"
   ]
  },
  {
   "cell_type": "code",
   "execution_count": 9,
   "id": "rental-juvenile",
   "metadata": {},
   "outputs": [
    {
     "data": {
      "text/html": [
       "<div>\n",
       "<style scoped>\n",
       "    .dataframe tbody tr th:only-of-type {\n",
       "        vertical-align: middle;\n",
       "    }\n",
       "\n",
       "    .dataframe tbody tr th {\n",
       "        vertical-align: top;\n",
       "    }\n",
       "\n",
       "    .dataframe thead th {\n",
       "        text-align: right;\n",
       "    }\n",
       "</style>\n",
       "<table border=\"1\" class=\"dataframe\">\n",
       "  <thead>\n",
       "    <tr style=\"text-align: right;\">\n",
       "      <th></th>\n",
       "      <th>DISTRICT</th>\n",
       "      <th>ST_NM</th>\n",
       "      <th>ST_CEN_CD</th>\n",
       "      <th>DT_CEN_CD</th>\n",
       "      <th>censuscode</th>\n",
       "      <th>geometry</th>\n",
       "    </tr>\n",
       "  </thead>\n",
       "  <tbody>\n",
       "    <tr>\n",
       "      <th>0</th>\n",
       "      <td>Adilabad</td>\n",
       "      <td>Andhra Pradesh</td>\n",
       "      <td>28</td>\n",
       "      <td>1</td>\n",
       "      <td>532</td>\n",
       "      <td>POLYGON ((78.84972 19.76010, 78.85102 19.75945...</td>\n",
       "    </tr>\n",
       "    <tr>\n",
       "      <th>1</th>\n",
       "      <td>Agra</td>\n",
       "      <td>Uttar Pradesh</td>\n",
       "      <td>9</td>\n",
       "      <td>15</td>\n",
       "      <td>146</td>\n",
       "      <td>POLYGON ((78.19803 27.40280, 78.19804 27.40278...</td>\n",
       "    </tr>\n",
       "    <tr>\n",
       "      <th>2</th>\n",
       "      <td>Ahmadabad</td>\n",
       "      <td>Gujarat</td>\n",
       "      <td>24</td>\n",
       "      <td>7</td>\n",
       "      <td>474</td>\n",
       "      <td>MULTIPOLYGON (((72.03456 23.50527, 72.03337 23...</td>\n",
       "    </tr>\n",
       "    <tr>\n",
       "      <th>3</th>\n",
       "      <td>Ahmadnagar</td>\n",
       "      <td>Maharashtra</td>\n",
       "      <td>27</td>\n",
       "      <td>26</td>\n",
       "      <td>522</td>\n",
       "      <td>POLYGON ((74.67333 19.94670, 74.67393 19.93509...</td>\n",
       "    </tr>\n",
       "    <tr>\n",
       "      <th>4</th>\n",
       "      <td>Aizawl</td>\n",
       "      <td>Mizoram</td>\n",
       "      <td>15</td>\n",
       "      <td>3</td>\n",
       "      <td>283</td>\n",
       "      <td>POLYGON ((92.98749 24.40453, 92.99107 24.40236...</td>\n",
       "    </tr>\n",
       "  </tbody>\n",
       "</table>\n",
       "</div>"
      ],
      "text/plain": [
       "     DISTRICT           ST_NM  ST_CEN_CD  DT_CEN_CD  censuscode  \\\n",
       "0    Adilabad  Andhra Pradesh         28          1         532   \n",
       "1        Agra   Uttar Pradesh          9         15         146   \n",
       "2   Ahmadabad         Gujarat         24          7         474   \n",
       "3  Ahmadnagar     Maharashtra         27         26         522   \n",
       "4      Aizawl         Mizoram         15          3         283   \n",
       "\n",
       "                                            geometry  \n",
       "0  POLYGON ((78.84972 19.76010, 78.85102 19.75945...  \n",
       "1  POLYGON ((78.19803 27.40280, 78.19804 27.40278...  \n",
       "2  MULTIPOLYGON (((72.03456 23.50527, 72.03337 23...  \n",
       "3  POLYGON ((74.67333 19.94670, 74.67393 19.93509...  \n",
       "4  POLYGON ((92.98749 24.40453, 92.99107 24.40236...  "
      ]
     },
     "execution_count": 9,
     "metadata": {},
     "output_type": "execute_result"
    }
   ],
   "source": [
    "fp = r'Districts\\Census_2011\\2011_Dist.shp'\n",
    "dis = gpd.read_file(fp)\n",
    "dis.head()"
   ]
  },
  {
   "cell_type": "code",
   "execution_count": 10,
   "id": "pleasant-security",
   "metadata": {},
   "outputs": [],
   "source": [
    "dis = dis[dis.ST_NM == \"Assam\"]"
   ]
  },
  {
   "cell_type": "code",
   "execution_count": 11,
   "id": "entire-forward",
   "metadata": {},
   "outputs": [
    {
     "data": {
      "text/html": [
       "<div>\n",
       "<style scoped>\n",
       "    .dataframe tbody tr th:only-of-type {\n",
       "        vertical-align: middle;\n",
       "    }\n",
       "\n",
       "    .dataframe tbody tr th {\n",
       "        vertical-align: top;\n",
       "    }\n",
       "\n",
       "    .dataframe thead th {\n",
       "        text-align: right;\n",
       "    }\n",
       "</style>\n",
       "<table border=\"1\" class=\"dataframe\">\n",
       "  <thead>\n",
       "    <tr style=\"text-align: right;\">\n",
       "      <th></th>\n",
       "      <th>DISTRICT</th>\n",
       "      <th>ST_NM</th>\n",
       "      <th>ST_CEN_CD</th>\n",
       "      <th>DT_CEN_CD</th>\n",
       "      <th>censuscode</th>\n",
       "      <th>geometry</th>\n",
       "    </tr>\n",
       "  </thead>\n",
       "  <tbody>\n",
       "    <tr>\n",
       "      <th>36</th>\n",
       "      <td>Baksa</td>\n",
       "      <td>Assam</td>\n",
       "      <td>18</td>\n",
       "      <td>25</td>\n",
       "      <td>324</td>\n",
       "      <td>POLYGON ((91.78311 26.49367, 91.77991 26.49523...</td>\n",
       "    </tr>\n",
       "    <tr>\n",
       "      <th>58</th>\n",
       "      <td>Barpeta</td>\n",
       "      <td>Assam</td>\n",
       "      <td>18</td>\n",
       "      <td>4</td>\n",
       "      <td>303</td>\n",
       "      <td>POLYGON ((91.16927 26.65240, 91.16787 26.64642...</td>\n",
       "    </tr>\n",
       "    <tr>\n",
       "      <th>90</th>\n",
       "      <td>Bongaigaon</td>\n",
       "      <td>Assam</td>\n",
       "      <td>18</td>\n",
       "      <td>20</td>\n",
       "      <td>319</td>\n",
       "      <td>POLYGON ((90.85418 26.52336, 90.85336 26.52153...</td>\n",
       "    </tr>\n",
       "    <tr>\n",
       "      <th>97</th>\n",
       "      <td>Cachar</td>\n",
       "      <td>Assam</td>\n",
       "      <td>18</td>\n",
       "      <td>17</td>\n",
       "      <td>316</td>\n",
       "      <td>POLYGON ((93.25235 24.97158, 93.25237 24.96905...</td>\n",
       "    </tr>\n",
       "    <tr>\n",
       "      <th>115</th>\n",
       "      <td>Chirang</td>\n",
       "      <td>Assam</td>\n",
       "      <td>18</td>\n",
       "      <td>21</td>\n",
       "      <td>320</td>\n",
       "      <td>POLYGON ((90.57322 26.79859, 90.58561 26.79725...</td>\n",
       "    </tr>\n",
       "  </tbody>\n",
       "</table>\n",
       "</div>"
      ],
      "text/plain": [
       "       DISTRICT  ST_NM  ST_CEN_CD  DT_CEN_CD  censuscode  \\\n",
       "36        Baksa  Assam         18         25         324   \n",
       "58      Barpeta  Assam         18          4         303   \n",
       "90   Bongaigaon  Assam         18         20         319   \n",
       "97       Cachar  Assam         18         17         316   \n",
       "115     Chirang  Assam         18         21         320   \n",
       "\n",
       "                                              geometry  \n",
       "36   POLYGON ((91.78311 26.49367, 91.77991 26.49523...  \n",
       "58   POLYGON ((91.16927 26.65240, 91.16787 26.64642...  \n",
       "90   POLYGON ((90.85418 26.52336, 90.85336 26.52153...  \n",
       "97   POLYGON ((93.25235 24.97158, 93.25237 24.96905...  \n",
       "115  POLYGON ((90.57322 26.79859, 90.58561 26.79725...  "
      ]
     },
     "execution_count": 11,
     "metadata": {},
     "output_type": "execute_result"
    }
   ],
   "source": [
    "dis.head()"
   ]
  },
  {
   "cell_type": "code",
   "execution_count": 13,
   "id": "protecting-annotation",
   "metadata": {},
   "outputs": [
    {
     "data": {
      "text/plain": [
       "<matplotlib.axes._subplots.AxesSubplot at 0x1cb30cb36d8>"
      ]
     },
     "execution_count": 13,
     "metadata": {},
     "output_type": "execute_result"
    },
    {
     "data": {
      "image/png": "[encoded data removed]",
      "text/plain": [
       "<Figure size 432x288 with 1 Axes>"
      ]
     },
     "metadata": {},
     "output_type": "display_data"
    }
   ],
   "source": [
    "dis.boundary.plot()"
   ]
  },
  {
   "cell_type": "code",
   "execution_count": null,
   "id": "hundred-hardware",
   "metadata": {},
   "outputs": [],
   "source": []
  }
 ],
 "metadata": {
  "kernelspec": {
   "display_name": "Python 3",
   "language": "python",
   "name": "python3"
  },
  "language_info": {
   "codemirror_mode": {
    "name": "ipython",
    "version": 3
   },
   "file_extension": ".py",
   "mimetype": "text/x-python",
   "name": "python",
   "nbconvert_exporter": "python",
   "pygments_lexer": "ipython3",
   "version": "3.6.13"
  }
 },
 "nbformat": 4,
 "nbformat_minor": 5
}
